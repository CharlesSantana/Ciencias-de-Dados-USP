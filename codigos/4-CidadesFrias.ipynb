{
  "nbformat": 4,
  "nbformat_minor": 0,
  "metadata": {
    "colab": {
      "provenance": []
    },
    "kernelspec": {
      "name": "python3",
      "display_name": "Python 3"
    },
    "language_info": {
      "name": "python"
    }
  },
  "cells": [
    {
      "cell_type": "code",
      "execution_count": null,
      "metadata": {
        "id": "LU6fySWeOOay"
      },
      "outputs": [],
      "source": [
        "#Fiz este arquivo com um dataset com uma lista de https://tempo.inmet.gov.br/CondicoesTempoRegistradas com a data de 04/08/2024\n",
        "#para aumentar a realidade das informacoes coletadas e tratadas dando expertise com outras\n",
        "#formas para tratamento dos dados.\n",
        "\n",
        "import pandas as pd\n",
        "\n",
        "# Carregar os dados do dataset CSV\n",
        "url = 'https://raw.githubusercontent.com/CharlesSantana/datasets/main/temperaturacaptais.csv'\n",
        "\n",
        "#criando uma variavel para ler o dataset carregado na varivael url\n",
        "df = pd.read_csv(url)\n",
        "\n",
        "#Lendo na tela o dataset setado na variavel df\n",
        "#print(df)\n",
        "\n",
        "# Definindo um o valor de referência parametrizando um ponto de comparacao (ajuste conforme necessário)\n",
        "t = 20.00\n",
        "\n",
        "# usei este procedimento para transformar de string para float mas nao foi necessario, tratei os dados direto na tabela, tinha alguns hifens\n",
        "#df['TEMP. MAX'] = df['TEMP. MAX'].astype(float)\n",
        "\n",
        "\n",
        "# percorrendo as linhas do dataframe, estudei sobre como criar dois for para percorrer em duas variaveis e entregar\n",
        "# de forma homogenea seus respectivos valores e conclusoes de quente ou fria\n",
        "\n",
        "# cria um index de forma a enumerar as contagem das linhas (rows), e usa o metodo df.iterrows atribuindo as duas variaveis\n",
        "for index, row in df.iterrows():\n",
        "    cidade = row['CAPITAL']\n",
        "    temperatura = row['TEMP. MAX']\n",
        "    if temperatura < t:\n",
        "        print(f\"A temperatura em {cidade} é {temperatura}°C e está fria.\")\n",
        "\n",
        "    elif temperatura > t:\n",
        "        print(f\"A temperatura em {cidade} é {temperatura}°C e está quente.\")\n",
        "\n",
        "    else:\n",
        "        print(f\"A temperatura na {cidade} nao foi coletada.\")"
      ]
    }
  ]
}