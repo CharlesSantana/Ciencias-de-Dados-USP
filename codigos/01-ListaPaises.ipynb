{
  "cells": [
    {
      "cell_type": "code",
      "execution_count": 2,
      "metadata": {
        "colab": {
          "base_uri": "https://localhost:8080/"
        },
        "id": "kRNi1K-2MCxQ",
        "outputId": "10c35f7b-02fd-4a70-f3a8-ba2568a02440"
      },
      "outputs": [
        {
          "name": "stdout",
          "output_type": "stream",
          "text": [
            "--------------------------------------------------------\n",
            "Pais                Graus_Celcius       Graus_Farenheit\n",
            "-------------     -----------------   ------------------\n",
            "Africa do Sul       50.00               122.000\n",
            "--------------------------------------------------------\n",
            "Argelia             51.30               124.340\n",
            "--------------------------------------------------------\n",
            "Chade               47.60               117.680\n",
            "--------------------------------------------------------\n",
            "Egito               51.00               123.800\n",
            "--------------------------------------------------------\n",
            "Gana                40.30               104.540\n",
            "--------------------------------------------------------\n",
            "Nigeria             48.20               118.760\n",
            "--------------------------------------------------------\n",
            "Thunisia            55.00               131.000\n",
            "--------------------------------------------------------\n",
            "India               51.00               123.800\n",
            "--------------------------------------------------------\n",
            "Finlandia           37.20                98.960\n",
            "--------------------------------------------------------\n",
            "Espanha             47.20               116.960\n",
            "--------------------------------------------------------\n"
          ]
        }
      ],
      "source": [
        "#1 - Crie uma lista de temperaturas de dez países\n",
        "#https://pt.wikipedia.org/wiki/Lista_de_pa%C3%ADses_por_extremos_meteorol%C3%B3gicos\n",
        "#Escreva em cada célula de um notebook o acesso a elementos da lista para calcular a temperatura em graus Farenheit:\n",
        "#C = (5 * (F-32) / 9)\n",
        "\n",
        "#LISTA DE PAISES E SUAS RESPECTIVAS TEMPERATURAS COM CALCULO\n",
        "\n",
        "#PAISES DENTRO DE UMA LISTA\n",
        "p = ['Africa do Sul','Argelia','Chade','Egito','Gana','Nigeria','Thunisia','India','Finlandia','Espanha']\n",
        "#TEMPERATRURAS DENTRO DE UMA LISTA\n",
        "t = [50.0,51.3,47.6,51,40.3,48.2,55,51.0,37.2,47.2]\n",
        "#LISTA VAZIA PARA SER PREENCHIDA PELO FOR\n",
        "resultados=[]\n",
        "\n",
        "\n",
        "# FOR PARA PASSARMOS POR TODOS OS ELEMENTOS DAS LISTAS E\n",
        "# ASSIM MONTAR MOS UMA TUPLA, MONTANDO UMA LISTA CORRELACIONANDO OS VALORES\n",
        "# ENTRETANDO COLOCANDO A FORMULA DENTRO DA TUPLA CONSIGUIMOS CALCULAR\n",
        "\n",
        "#CABECALHO MONTADO USANDO LISTA PRINTANDO A LISTA COM\n",
        "# PARAMETRIZACOES DE ALINHAMENTO\n",
        "print('--------------------------------------------------------')\n",
        "cab = ['Pais','Graus_Celcius','Graus_Farenheit']\n",
        "print(f'{cab[0]:<20}{cab[1]:<20}{cab[2]:<8}')\n",
        "print('-------------     -----------------   ------------------')\n",
        "\n",
        "\n",
        "# FOR PARA PASSARMOS POR TODOS OS ELEMENTOS DAS LISTAS E\n",
        "# MONTANDO UMA LISTA CORRELACIONANDO OS VALORES\n",
        "# ENTRETANDO COLOCANDO A FORMULA DENTRO DA LISTAGEM DA POSICAO DO\n",
        "# DA TEMPERATURA EM CELCIUS CONVERTENDO EM FIRENHAIT, JA DENTRO DA LISTA\n",
        "# COM PARAMETRIZACOES DE ALINHAMENTO E PASSANDO PARA AS COLUNAS DE TEMPERATURA\n",
        "# QUANTAS CASAS APOS O PONTO DE DECIMAIS.\n",
        "\n",
        "for i in range(10):\n",
        "        linha = [p[i], t[i], (t[i]*1.8)+32]\n",
        "        Pais, Graus_Celcius, Graus_Farenheit = linha\n",
        "        print(f'{Pais:<17}   {Graus_Celcius:<16,.2f}   {Graus_Farenheit:>8,.3f}')\n",
        "        print('--------------------------------------------------------')\n"
      ]
    }
  ],
  "metadata": {
    "colab": {
      "provenance": []
    },
    "kernelspec": {
      "display_name": "Python 3",
      "name": "python3"
    },
    "language_info": {
      "codemirror_mode": {
        "name": "ipython",
        "version": 3
      },
      "file_extension": ".py",
      "mimetype": "text/x-python",
      "name": "python",
      "nbconvert_exporter": "python",
      "pygments_lexer": "ipython3",
      "version": "3.10.12"
    }
  },
  "nbformat": 4,
  "nbformat_minor": 0
}
