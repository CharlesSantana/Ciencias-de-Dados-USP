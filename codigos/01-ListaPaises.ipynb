{
  "nbformat": 4,
  "nbformat_minor": 0,
  "metadata": {
    "colab": {
      "provenance": []
    },
    "kernelspec": {
      "name": "python3",
      "display_name": "Python 3"
    },
    "language_info": {
      "name": "python"
    }
  },
  "cells": [
    {
      "cell_type": "code",
      "execution_count": null,
      "metadata": {
        "id": "gwCngEHbltQ7"
      },
      "outputs": [],
      "source": [
        "#1 - Crie uma lista dre temperaturas de dez países\n",
        "#https://pt.wikipedia.org/wiki/Lista_de_pa%C3%ADses_por_extremos_meteorol%C3%B3gicos\n",
        "#Escreva em cada célula de um notebook o acesso a elementos da lista para calcular a temperatura em graus Farenheit:\n",
        "#C = (5 * (F-32) / 9)\n",
        "\n",
        "#LISTA DE PAISES E SUAS RESPECTIVAS TEMPERATURAS COM CALCULO\n",
        "\n",
        "#PAISES DENTRO DE UMA LISTA\n",
        "p = ['Africa do Sul','Argelia','Chade','Egito','Gana','Nigeria','Thunisia','India','Finlandia','Espanha']\n",
        "#TEMPERATRURAS DENTRO DE UMA LISTA\n",
        "t = [50.0,51.3,47.6,51,40.3,48.2,55,51.0,37.2,47.2]\n",
        "#LISTA VAZIA PARA SER PREENCHIDA PELO FOR\n",
        "resultados=[]\n",
        "\n",
        "\n",
        "# FOR PARA PASSARMOS POR TODOS OS ELEMENTOS DAS LISTAS E\n",
        "# ASSIM MONTAR MOS UMA TUPLA, MONTANDO UMA LISTA CORRELACIONANDO OS VALORES\n",
        "# ENTRETANDO COLOCANDO A FORMULA DENTRO DA TUPLA CONSIGUIMOS CALCULAR\n",
        "\n",
        "#CABECALHO MONTADO USANDO LISTA PRINTANDO A LISTA COM\n",
        "# PARAMETRIZACOES DE ALINHAMENTO\n",
        "print('--------------------------------------------------------')\n",
        "cab = ['Pais','Graus_Celcius','Graus_Farenheit']\n",
        "print(f'{cab[0]:<20}{cab[1]:<20}{cab[2]:<8}')\n",
        "print('-------------     -----------------   ------------------')\n",
        "\n",
        "\n",
        "# FOR PARA PASSARMOS POR TODOS OS ELEMENTOS DAS LISTAS E\n",
        "# MONTANDO UMA LISTA CORRELACIONANDO OS VALORES\n",
        "# ENTRETANDO COLOCANDO A FORMULA DENTRO DA LISTAGEM DA POSICAO DO\n",
        "# DA TEMPERATURA EM CELCIUS CONVERTENDO EM FIRENHAIT, JA DENTRO DA LISTA\n",
        "# COM PARAMETRIZACOES DE ALINHAMENTO E PASSANDO PARA AS COLUNAS DE TEMPERATURA\n",
        "# QUANTAS CASAS APOS O PONTO DE DECIMAIS.\n",
        "\n",
        "for i in range(10):\n",
        "        linha = [p[i], t[i], (t[i]*1.8)+32]\n",
        "        Pais, Graus_Celcius, Graus_Farenheit = linha\n",
        "        print(f'{Pais:<17}   {Graus_Celcius:<16,.2f}   {Graus_Farenheit:>8,.3f}')\n",
        "        print('--------------------------------------------------------')"
      ]
    }
  ]
}
