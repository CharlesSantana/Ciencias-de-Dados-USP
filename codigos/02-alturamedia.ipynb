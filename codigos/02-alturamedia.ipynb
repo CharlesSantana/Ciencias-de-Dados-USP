{
  "nbformat": 4,
  "nbformat_minor": 0,
  "metadata": {
    "colab": {
      "provenance": []
    },
    "kernelspec": {
      "name": "python3",
      "display_name": "Python 3"
    },
    "language_info": {
      "name": "python"
    }
  },
  "cells": [
    {
      "cell_type": "code",
      "execution_count": 1,
      "metadata": {
        "colab": {
          "base_uri": "https://localhost:8080/"
        },
        "id": "gwCngEHbltQ7",
        "outputId": "947cb622-664d-46e9-c1c7-7dc006fcd880"
      },
      "outputs": [
        {
          "output_type": "stream",
          "name": "stdout",
          "text": [
            "País: Alpes Dináricos, Altura Média: 185.60, Peso Ideal: 76.93\n",
            "País: Alemanha, Altura Média: 181.00, Peso Ideal: 73.59\n",
            "País: Argélia , Altura Média: 170.00, Peso Ideal: 65.59\n",
            "País: Argentina , Altura Média: 174.30, Peso Ideal: 68.72\n",
            "País: Argentina, Altura Média: 174.30, Peso Ideal: 68.72\n",
            "País: Austrália, Altura Média: 177.80, Peso Ideal: 71.26\n",
            "País: Áustria, Altura Média: 179.60, Peso Ideal: 72.57\n",
            "País: Bangladesh , Altura Média: 162.70, Peso Ideal: 60.28\n",
            "País: Barém, Altura Média: 165.10, Peso Ideal: 62.03\n",
            "País: Bélgica, Altura Média: 179.50, Peso Ideal: 72.50\n"
          ]
        }
      ],
      "source": [
        "import pandas as pd\n",
        "\n",
        "# URL do arquivo CSV\n",
        "url = 'https://raw.githubusercontent.com/CharlesSantana/datasets/main/alturapaises.csv'\n",
        "\n",
        "# Lendo o arquivo CSV diretamente da URL\n",
        "df = pd.read_csv(url)\n",
        "\n",
        "# Criando um dicionário com país e altura média\n",
        "dicionario_paises = dict(zip(df['PAIS'], df['MEDIA_MASCULINA']))\n",
        "\n",
        "#print(dicionario_paises)\n",
        "\n",
        "#imprimiindo os primeiros 10 países do dicionário,\n",
        "#utilizaando  a função enumerate(), obtem o índice de cada\n",
        "#item e apos a contagem ira parar no valor informado\n",
        "cont = 10\n",
        "for i, (PAIS, MEDIA_MASCULINA) in enumerate(dicionario_paises.items()):\n",
        "    if i >= cont:\n",
        "        break\n",
        "\n",
        "    # Calculando o peso ideal para cada país em kg\n",
        "    peso_ideal = ((72.7 * MEDIA_MASCULINA)/100)-58\n",
        "\n",
        "    # imprimindo conforme o operadir de formatacao, indicando as\n",
        "    # informacoes com dois digitos apos o seṕarador decimal\n",
        "    print(f\"País: {PAIS}, Altura Média: {MEDIA_MASCULINA:.2f}, Peso Ideal: {peso_ideal:.2f}\")\n",
        ""
      ]
    }
  ]
}