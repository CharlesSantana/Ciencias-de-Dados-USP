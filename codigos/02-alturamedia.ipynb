{
 "cells": [
  {
   "cell_type": "code",
   "execution_count": null,
   "metadata": {},
   "outputs": [
    {
     "ename": "",
     "evalue": "",
     "output_type": "error",
     "traceback": [
      "\u001b[1;31mFalha ao iniciar o kernel devido ao módulo ausente \"decorator\". Considere instalar este módulo.\n",
      "\u001b[1;31mClique <a href=\"https://aka.ms/kernelFailuresMissingModule\">aqui</a> para obter mais informações."
     ]
    }
   ],
   "source": [
    "import pandas as pd\n",
    "\n",
    "# URL do arquivo CSV\n",
    "url = 'https://raw.githubusercontent.com/CharlesSantana/datasets/main/alturapaises.csv'\n",
    "\n",
    "# Lendo o arquivo CSV diretamente da URL\n",
    "df = pd.read_csv(url)\n",
    "\n",
    "# Criando um dicionário com país e altura média\n",
    "dicionario_paises = dict(zip(df['PAIS'], df['MEDIA_MASCULINA']))\n",
    "\n",
    "#print(dicionario_paises)\n",
    "\n",
    "#imprimiindo os primeiros 10 países do dicionário,\n",
    "#utilizaando  a função enumerate(), obtem o índice de cada \n",
    "#item e apos a contagem ira parar no valor informado\n",
    "cont = 10\n",
    "for i, (PAIS, MEDIA_MASCULINA) in enumerate(dicionario_paises.items()):\n",
    "    if i >= cont:\n",
    "        break\n",
    "    \n",
    "    # Calculando o peso ideal para cada país em kg\n",
    "    peso_ideal = ((72.7 * MEDIA_MASCULINA)/100)-58\n",
    "    \n",
    "    # imprimindo conforme o operadir de formatacao, indicando as \n",
    "    # informacoes com dois digitos apos o seṕarador decimal\n",
    "    print(f\"País: {PAIS}, Altura Média: {MEDIA_MASCULINA:.2f}, Peso Ideal: {peso_ideal:.2f}\")\n",
    "  "
   ]
  }
 ],
 "metadata": {
  "kernelspec": {
   "display_name": "Python 3",
   "language": "python",
   "name": "python3"
  },
  "language_info": {
   "name": "python",
   "version": "3.10.12"
  }
 },
 "nbformat": 4,
 "nbformat_minor": 2
}
