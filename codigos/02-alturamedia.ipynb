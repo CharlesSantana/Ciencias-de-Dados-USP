import pandas as pd

# URL do arquivo CSV
url = 'https://raw.githubusercontent.com/CharlesSantana/datasets/main/alturapaises.csv'

# Lendo o arquivo CSV diretamente da URL
df = pd.read_csv(url)

# Criando um dicionário com país e altura média
dicionario_paises = dict(zip(df['PAIS'], df['MEDIA_MASCULINA']))

#print(dicionario_paises)

#imprimiindo os primeiros 10 países do dicionário,
#utilizaando  a função enumerate(), obtem o índice de cada 
#item e apos a contagem ira parar no valor informado
cont = 10
for i, (PAIS, MEDIA_MASCULINA) in enumerate(dicionario_paises.items()):
    if i >= cont:
        break
    
    # Calculando o peso ideal para cada país em kg
    peso_ideal = ((72.7 * MEDIA_MASCULINA)/100)-58
    
    # imprimindo conforme o operadir de formatacao, indicando as 
    # informacoes com dois digitos apos o seṕarador decimal
    print(f"País: {PAIS}, Altura Média: {MEDIA_MASCULINA:.2f}, Peso Ideal: {peso_ideal:.2f}")
  
