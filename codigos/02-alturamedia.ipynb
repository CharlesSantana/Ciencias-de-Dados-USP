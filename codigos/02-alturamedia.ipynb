{
  "nbformat": 4,
  "nbformat_minor": 0,
  "metadata": {
    "colab": {
      "provenance": []
    },
    "kernelspec": {
      "name": "python3",
      "display_name": "Python 3"
    },
    "language_info": {
      "name": "python"
    }
  },
  "cells": [
    {
      "cell_type": "code",
      "execution_count": null,
      "metadata": {
        "id": "gwCngEHbltQ7"
      },
      "outputs": [],
      "source": [
        "import pandas as pd\n",
        "\n",
        "# URL do arquivo CSV\n",
        "url = 'https://raw.githubusercontent.com/CharlesSantana/datasets/main/alturapaises.csv'\n",
        "\n",
        "# Lendo o arquivo CSV diretamente da URL\n",
        "df = pd.read_csv(url)\n",
        "\n",
        "# Criando um dicionário com país e altura média\n",
        "dicionario_paises = dict(zip(df['PAIS'], df['MEDIA_MASCULINA']))\n",
        "\n",
        "#print(dicionario_paises)\n",
        "\n",
        "#imprimiindo os primeiros 10 países do dicionário,\n",
        "#utilizaando  a função enumerate(), obtem o índice de cada\n",
        "#item e apos a contagem ira parar no valor informado\n",
        "cont = 10\n",
        "for i, (PAIS, MEDIA_MASCULINA) in enumerate(dicionario_paises.items()):\n",
        "    if i >= cont:\n",
        "        break\n",
        "\n",
        "    # Calculando o peso ideal para cada país em kg\n",
        "    peso_ideal = ((72.7 * MEDIA_MASCULINA)/100)-58\n",
        "\n",
        "    # imprimindo conforme o operadir de formatacao, indicando as\n",
        "    # informacoes com dois digitos apos o seṕarador decimal\n",
        "    print(f\"País: {PAIS}, Altura Média: {MEDIA_MASCULINA:.2f}, Peso Ideal: {peso_ideal:.2f}\")\n",
        ""
      ]
    }
  ]
}
