{
  "nbformat": 4,
  "nbformat_minor": 0,
  "metadata": {
    "colab": {
      "provenance": []
    },
    "kernelspec": {
      "name": "python3",
      "display_name": "Python 3"
    },
    "language_info": {
      "name": "python"
    }
  },
  "cells": [
    {
      "cell_type": "code",
      "execution_count": null,
      "metadata": {
        "id": "LU6fySWeOOay"
      },
      "outputs": [],
      "source": [
        "# Definindo as variáveis atraves de dicionarios\n",
        "bolsas = {\n",
        "    \"Alemanha\": {\"valor\": 750.00, \"moeda\": \"EUR\"},\n",
        "    \"Australia\": {\"valor\": 1000.00, \"moeda\": \"EUR\"},\n",
        "    \"Dinamarca\": {\"valor\": 6500.00, \"moeda\": \"DKK\"},\n",
        "     # valor da bolsa é por ferias de verao que sao tres meses,\n",
        "     # entao tive que3 dividir por 3 para chegar ao valor mensal\n",
        "     \"Estados Unidos\": {\"valor\": 5000.00/3, \"moeda\": \"USD\"},\n",
        "\n",
        "}\n",
        "\n",
        "taxas_cambio = {\n",
        "    \"EUR\": 4.6772,  # Taxa de câmbio em 02/12/2019\n",
        "    \"DKK\": 0.6262,\n",
        "    \"USD\": 4.2255\n",
        "}\n",
        "\n",
        "# Função para calculo um valor para reais\n",
        "def converter_para_reais(valor, moeda):\n",
        "    taxa = taxas_cambio[moeda]\n",
        "    return valor * taxa\n",
        "\n",
        "# uso da funcao CONVERTER_PARA_REAIS\n",
        "valor_em_reais = converter_para_reais(bolsas[\"Alemanha\"][\"valor\"], bolsas[\"Alemanha\"][\"moeda\"])\n",
        "print(f\"Por hora a bolsa na Alemanha equivale a R$ {valor_em_reais/30:.2f}\")\n",
        "print(f\"Por Mes a bolsa na Alemanha equivale a R$ {valor_em_reais:.2f}\")\n",
        "print(f\"Por ano a bolsa na Alemanha equivale a R$ {valor_em_reais*12:.2f}\")\n",
        "print('---------------------------------------------------------------------')\n",
        "\n",
        "\n",
        "valor_em_reais = converter_para_reais(bolsas[\"Australia\"][\"valor\"], bolsas[\"Australia\"][\"moeda\"])\n",
        "print(f\"Por hora a  bolsa na Australia equivale a R$ {valor_em_reais/30:.2f}\")\n",
        "print(f\"Por Mes a  bolsa na Australia equivale a R$ {valor_em_reais:.2f}\")\n",
        "print(f\"Por ano a  bolsa na Australia equivale a R$ {valor_em_reais*12:.2f}\")\n",
        "print('---------------------------------------------------------------------')\n",
        "\n",
        "valor_em_reais = converter_para_reais(bolsas[\"Dinamarca\"][\"valor\"], bolsas[\"Dinamarca\"][\"moeda\"])\n",
        "print(f\"Por hora a  bolsa na Dinamarca equivale a R$ {valor_em_reais/30:.2f}\")\n",
        "print(f\"Por Mes a  bolsa na Dinamarca equivale a R$ {valor_em_reais:.2f}\")\n",
        "print(f\"Por ano a  bolsa na Dinamarca equivale a R$ {valor_em_reais*12:.2f}\")\n",
        "\n",
        "print('---------------------------------------------------------------------')\n",
        "valor_em_reais = converter_para_reais(bolsas[\"Estados Unidos\"][\"valor\"], bolsas[\"Estados Unidos\"][\"moeda\"])\n",
        "print(f\"Por hora a bolsa na Estados Unidos equivale a R$ {valor_em_reais/30:.2f}\")\n",
        "print(f\"Por mes a bolsa na Estados Unidos equivale a R$ {valor_em_reais:.2f}\")\n",
        "print(f\"Por ano a bolsa na Estados Unidos equivale a R$ {valor_em_reais*12:.2f}\")\n"
      ]
    }
  ]
}